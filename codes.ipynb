{
 "cells": [
  {
   "cell_type": "code",
   "execution_count": 2,
   "metadata": {},
   "outputs": [],
   "source": [
    "import cv2\n",
    "import os\n",
    "import time\n",
    "import numpy as np\n"
   ]
  },
  {
   "cell_type": "code",
   "execution_count": null,
   "metadata": {},
   "outputs": [],
   "source": [
    "#CONVERT TO GREY\n",
    "input_folder = 'mert'\n",
    "output_folder = 'DIP/pp'\n",
    "os.makedirs(output_folder, exist_ok=True)\n",
    "count = 1\n",
    "for filename in os.listdir(input_folder):\n",
    "    file_path = os.path.join(input_folder, filename)\n",
    "    if filename.endswith(('.jpg', '.jpeg', '.png')):\n",
    "        image = cv2.imread(file_path)\n",
    "        gray_image = cv2.cvtColor(image, cv2.COLOR_BGR2GRAY)\n",
    "        output_path = os.path.join(output_folder, filename)\n",
    "        print(output_path)\n",
    "        cv2.imwrite(output_path, gray_image)\n",
    "    count +=1\n",
    "print(\"All images have been converted to grayscale and saved.\")\n"
   ]
  },
  {
   "cell_type": "code",
   "execution_count": null,
   "metadata": {},
   "outputs": [],
   "source": [
    "#FIND SOLUTION FOR GIVEN PROBLEM\n",
    "# Load your trained Haar cascade XML file\n",
    "cascade_path = 'DIP\\classifier\\cascade.xml'\n",
    "cascade = cv2.CascadeClassifier(cascade_path)\n",
    "\n",
    "# Define the path to your test image\n",
    "image_path = 'testtt.jpg'\n",
    "\n",
    "# Minimum and maximum face size trackers\n",
    "min_face_size = None\n",
    "max_face_size = None\n",
    "\n",
    "# Detection time trackers\n",
    "total_detection_time = 0\n",
    "total_faces_detected = 0\n",
    "\n",
    "# Loop through a set of images to get average detection times\n",
    "for i in range(10):  # Testing on 10 images for better accuracy\n",
    "    # Load and preprocess the image\n",
    "    image = cv2.imread(image_path)\n",
    "    gray = cv2.cvtColor(image, cv2.COLOR_BGR2GRAY)\n",
    "    \n",
    "    # Start the timer\n",
    "    start_time = time.time()\n",
    "    \n",
    "    # Detect faces in the image\n",
    "    faces = cascade.detectMultiScale(\n",
    "        gray,\n",
    "        scaleFactor=1.2,  # Adjust for different sizes\n",
    "        minNeighbors=8,\n",
    "        minSize=(200, 200),  # Start with a smaller min size to find min detectable size\n",
    "        #maxSize=(189,189)\n",
    "    )\n",
    "    \n",
    "    # Calculate detection time for this image\n",
    "    detection_time = time.time() - start_time\n",
    "    total_detection_time += detection_time\n",
    "    total_faces_detected += len(faces)\n",
    "    \n",
    "    # Update min and max face size if faces are detected\n",
    "    for (x, y, w, h) in faces:\n",
    "        face_size = (w, h)\n",
    "        cv2.rectangle(image, (x, y), (x+w, y+h), (255, 0, 0), 2)\n",
    "        # Update min and max face sizes\n",
    "        if min_face_size is None or (w * h) < (min_face_size[0] * min_face_size[1]):\n",
    "            min_face_size = face_size\n",
    "        if max_face_size is None or (w * h) > (max_face_size[0] * max_face_size[1]):\n",
    "            max_face_size = face_size\n",
    "\n",
    "    print(f\"Image {i+1} Detection Time: {detection_time:.4f} seconds, Faces Detected: {len(faces)}\")\n",
    "\n",
    "# Calculate averages\n",
    "average_detection_time_per_image = total_detection_time / 10  # For 10 images\n",
    "average_detection_time_per_face = total_detection_time / total_faces_detected if total_faces_detected else 0\n",
    "\n",
    "print(\"\\n--- Detection Results ---\")\n",
    "print(f\"Minimum Detectable Face Size: {min_face_size}\")\n",
    "print(f\"Maximum Detectable Face Size: {max_face_size}\")\n",
    "print(f\"Average Detection Time per Image: {average_detection_time_per_image:.4f} seconds\")\n",
    "print(f\"Average Detection Time per Face: {average_detection_time_per_face:.4f} seconds\")\n",
    "cv2.imwrite(\"this.jpg\", image)"
   ]
  },
  {
   "cell_type": "code",
   "execution_count": 3,
   "metadata": {},
   "outputs": [
    {
     "name": "stdout",
     "output_type": "stream",
     "text": [
      "All images have been renamed.\n"
     ]
    }
   ],
   "source": [
    "#RENAME EACH IMAGE\n",
    "folder_path = 'n'\n",
    "base_name = \"negative\"\n",
    "counter = 1\n",
    "\n",
    "for filename in os.listdir(folder_path):\n",
    "    if filename.endswith(('.jpg', '.jpeg', '.png')):\n",
    "        new_name = f\"{base_name}_{counter}.jpg\"\n",
    "        old_file = os.path.join(folder_path, filename)\n",
    "        new_file = os.path.join(folder_path, new_name)\n",
    "        os.rename(old_file, new_file)\n",
    "        counter += 1\n",
    "print(\"All images have been renamed.\")\n"
   ]
  },
  {
   "cell_type": "code",
   "execution_count": null,
   "metadata": {},
   "outputs": [],
   "source": []
  },
  {
   "cell_type": "code",
   "execution_count": null,
   "metadata": {},
   "outputs": [],
   "source": [
    "#TEST XML\n",
    "cascade = cv2.CascadeClassifier('/Users/a/INHA/DIP/New folder/cascade.xml')\n",
    "image = cv2.imread(\"testtt.jpg\")\n",
    "gray = cv2.cvtColor(image, cv2.COLOR_BGR2GRAY)\n",
    "objects = cascade.detectMultiScale(\n",
    "    gray,\n",
    "    scaleFactor=1.1,     \n",
    "    minNeighbors=7,      \n",
    "    minSize=(30,30)       \n",
    ")\n",
    "for (x, y, w, h) in objects:\n",
    "    cv2.rectangle(image, (x, y), (x+w, y+h), (255, 0, 0), 2)\n",
    "cv2.imshow('Detection', image)\n",
    "cv2.waitKey(0)\n",
    "cv2.destroyAllWindows()"
   ]
  },
  {
   "cell_type": "code",
   "execution_count": null,
   "metadata": {},
   "outputs": [],
   "source": [
    "\n",
    "# Load the Haar Cascade classifier\n",
    "face_cascade = cv2.CascadeClassifier('/Users/a/INHA/DIP/New folder/cascade.xml')\n",
    "\n",
    "# Start capturing video from the default camera\n",
    "cap = cv2.VideoCapture(0)\n",
    "\n",
    "while True:\n",
    "    # Read a frame from the video capture\n",
    "    ret, frame = cap.read()\n",
    "\n",
    "    # Convert the frame to grayscale\n",
    "    gray = cv2.cvtColor(frame, cv2.COLOR_BGR2GRAY)\n",
    "\n",
    "    # Detect faces in the grayscale image\n",
    "    faces = face_cascade.detectMultiScale(gray, 1.1, 4)\n",
    "\n",
    "    # Draw rectangles around the detected faces\n",
    "    for (x, y, w, h) in faces:\n",
    "        cv2.rectangle(frame, (x, y), (x+w, y+h), (255, 0, 0), 2)\n",
    "\n",
    "    # Display the resulting frame\n",
    "    cv2.imshow('Face Detection', frame)\n",
    "\n",
    "    # Exit if the 'q' key is pressed\n",
    "    if cv2.waitKey(1) & 0xFF == ord('q'):\n",
    "        break\n",
    "\n",
    "# Release the video capture and close all windows\n",
    "cap.release()\n",
    "cv2.destroyAllWindows()"
   ]
  },
  {
   "cell_type": "code",
   "execution_count": null,
   "metadata": {},
   "outputs": [],
   "source": []
  }
 ],
 "metadata": {
  "kernelspec": {
   "display_name": "Python 3",
   "language": "python",
   "name": "python3"
  },
  "language_info": {
   "codemirror_mode": {
    "name": "ipython",
    "version": 3
   },
   "file_extension": ".py",
   "mimetype": "text/x-python",
   "name": "python",
   "nbconvert_exporter": "python",
   "pygments_lexer": "ipython3",
   "version": "3.10.14"
  }
 },
 "nbformat": 4,
 "nbformat_minor": 2
}
